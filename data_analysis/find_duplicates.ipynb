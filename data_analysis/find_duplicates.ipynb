{
 "cells": [
  {
   "cell_type": "code",
   "execution_count": 95,
   "metadata": {},
   "outputs": [],
   "source": [
    "import pandas as pd\n",
    "# pd.set_option('display.max_columns', None)\n",
    "model_name = 'overconfident'"
   ]
  },
  {
   "cell_type": "code",
   "execution_count": 96,
   "metadata": {},
   "outputs": [],
   "source": [
    "# read in the data\n",
    "users = pd.read_csv('Calibrated Predictions Survey - users.csv', index_col='id')\n",
    "users = users.loc[users['model_name'] == model_name]\n",
    "users = users.drop(['time','model_name'], axis=1)"
   ]
  },
  {
   "cell_type": "code",
   "execution_count": 97,
   "metadata": {},
   "outputs": [
    {
     "name": "stderr",
     "output_type": "stream",
     "text": [
      "C:\\Users\\Meir\\AppData\\Local\\Temp\\ipykernel_12944\\3840941169.py:3: FutureWarning: The default value of regex will change from True to False in a future version.\n",
      "  users2.columns = users2.columns.str.replace('Answer.','')\n",
      "C:\\Users\\Meir\\AppData\\Local\\Temp\\ipykernel_12944\\3840941169.py:4: SettingWithCopyWarning: \n",
      "A value is trying to be set on a copy of a slice from a DataFrame.\n",
      "Try using .loc[row_indexer,col_indexer] = value instead\n",
      "\n",
      "See the caveats in the documentation: https://pandas.pydata.org/pandas-docs/stable/user_guide/indexing.html#returning-a-view-versus-a-copy\n",
      "  users2['year'] = 2023 - users2['year']\n",
      "C:\\Users\\Meir\\AppData\\Local\\Temp\\ipykernel_12944\\3840941169.py:5: SettingWithCopyWarning: \n",
      "A value is trying to be set on a copy of a slice from a DataFrame\n",
      "\n",
      "See the caveats in the documentation: https://pandas.pydata.org/pandas-docs/stable/user_guide/indexing.html#returning-a-view-versus-a-copy\n",
      "  users2.rename(columns={'year':'age'}, inplace=True)\n"
     ]
    }
   ],
   "source": [
    "users_mturk = pd.read_csv('C:/Users/Meir/Desktop/all answers.csv')\n",
    "users2 = users_mturk[['Answer.year','Answer.gender','Answer.occupation','Answer.review']]\n",
    "users2.columns = users2.columns.str.replace('Answer.','')\n",
    "users2['year'] = 2023 - users2['year']\n",
    "users2.rename(columns={'year':'age'}, inplace=True)\n",
    "# rename index column to 'id'"
   ]
  },
  {
   "cell_type": "code",
   "execution_count": 98,
   "metadata": {},
   "outputs": [
    {
     "name": "stdout",
     "output_type": "stream",
     "text": [
      "     age  gender           occupation  \\\n",
      "0     26    Male   software developer   \n",
      "1     26    Male   Software developer   \n",
      "2     36  Female             Business   \n",
      "3     39  Female    financial analyst   \n",
      "4     29    Male     Property Manager   \n",
      "..   ...     ...                  ...   \n",
      "117   24  Female          Healthcare    \n",
      "118   25  Female          Healthcare    \n",
      "119   24  Female  Software Developer    \n",
      "120   43    Male  Software Developer    \n",
      "121   60  Female                   15   \n",
      "\n",
      "                                               review      _merge  \n",
      "0                  evaluating rain forecasting system   left_only  \n",
      "1                                    very interesting   left_only  \n",
      "2                                                WELL   left_only  \n",
      "3                very interesting task, I enjoyed it.        both  \n",
      "4                                  Interesting survey        both  \n",
      "..                                                ...         ...  \n",
      "117                                        Thank you.  right_only  \n",
      "118                                        Thank you.  right_only  \n",
      "119  A survey on evaluation of rain forecast system .  right_only  \n",
      "120                     I like this study .Thank you!  right_only  \n",
      "121                            this about prediction   right_only  \n",
      "\n",
      "[122 rows x 5 columns]\n"
     ]
    }
   ],
   "source": [
    "# Merge the two dataframes using the 'indicator' parameter\n",
    "merged_df = users2.merge(users, how='outer', indicator=True)\n",
    "print(merged_df)\n",
    "# Remove the rows that are in both dataframes\n",
    "filtered_df = merged_df.loc[merged_df['_merge'] == 'left_only', users2.columns]\n",
    "# remove all indexes that are not in users2\n",
    "filtered_df = filtered_df.loc[filtered_df.index.isin(users2.index)]\n",
    "\n",
    "# Print the resulting dataframe\n",
    "# print(filtered_df)"
   ]
  },
  {
   "cell_type": "code",
   "execution_count": 99,
   "metadata": {},
   "outputs": [
    {
     "name": "stderr",
     "output_type": "stream",
     "text": [
      "C:\\Users\\Meir\\AppData\\Local\\Temp\\ipykernel_12944\\2256942847.py:4: FutureWarning: The default value of regex will change from True to False in a future version.\n",
      "  users_mturk.columns = users_mturk.columns.str.replace('Answer.','')\n"
     ]
    }
   ],
   "source": [
    "users_mturk = users_mturk[['Answer.year','Answer.gender','Answer.occupation','Answer.review',\n",
    "                      'Answer.prediction_', 'Answer.outcome_', 'Answer.predTest_',\n",
    "                      'Answer.outcomeTest_', 'Answer.firstRate_', 'Answer.lastRate_']]\n",
    "users_mturk.columns = users_mturk.columns.str.replace('Answer.','')\n",
    "users_mturk['year'] = 2023 - users_mturk['year']\n",
    "users_mturk.rename(columns={'year':'age'}, inplace=True)\n",
    "users_mturk = users_mturk.loc[filtered_df.index]\n",
    "# save to file\n",
    "# print(users_mturk)\n",
    "users_mturk.to_csv('C:/Users/Meir/Desktop/all answers_new.csv', index=True)"
   ]
  },
  {
   "cell_type": "code",
   "execution_count": null,
   "metadata": {},
   "outputs": [],
   "source": []
  }
 ],
 "metadata": {
  "kernelspec": {
   "display_name": "Python 3",
   "language": "python",
   "name": "python3"
  },
  "language_info": {
   "codemirror_mode": {
    "name": "ipython",
    "version": 3
   },
   "file_extension": ".py",
   "mimetype": "text/x-python",
   "name": "python",
   "nbconvert_exporter": "python",
   "pygments_lexer": "ipython3",
   "version": "3.11.0"
  },
  "orig_nbformat": 4
 },
 "nbformat": 4,
 "nbformat_minor": 2
}
